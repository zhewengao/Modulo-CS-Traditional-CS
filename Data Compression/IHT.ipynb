{
 "cells": [
  {
   "cell_type": "code",
   "execution_count": 103,
   "metadata": {},
   "outputs": [
    {
     "data": {
      "image/png": "[encoded data removed]",
      "text/plain": [
       "<Figure size 640x480 with 1 Axes>"
      ]
     },
     "metadata": {},
     "output_type": "display_data"
    },
    {
     "name": "stdout",
     "output_type": "stream",
     "text": [
      "[  0   0   0   0   0   0   0   0   0   0   0   0   0   0   0   0   0   0\n",
      "   0   0   0   0   0   0   0   0   0   0   0   0   0   0   0   0   0   0\n",
      "   0   0   0   0   0   0   0   0   0   0   0   0   0   0   0   0   0   0\n",
      "   0   0   0   0   0   0   0   0   0   0   0   0   0   0   0   0   0   0\n",
      "   0   0   0   0   0   0   0   0   0   0   0   0   0   0   0   0   0   0\n",
      "   0   0   0   0   0   0   0   0   0   0   0   0   0   0   0   0   0   0\n",
      "   0   0   0   0   0   0   0   0   0   0   0   0   0   0   0   0   0   0\n",
      "   0   0   0   0   0   0   0   0   0   0   0   0   0   0   0   0   0   0\n",
      "   0   0   0   0   0   0   0   0   0   0   0   0  85 255 103   1   0   0\n",
      "   0   0   0   0   0   0   0   0   0   0   0   0   0   0   0   0   0   0\n",
      "   0   0   0   0 205 253 253  30   0   0   0   0   0   0   0   0   0   0\n",
      "   0   0   0   0   0   0   0   0   0   0   0   0   0   0 205 253 253  30\n",
      "   0   0   0   0   0   0   0   0   0   0   0   0   0   0   0   0   0   0\n",
      "   0   0   0   0   0  44 233 253 244  27   0   0   0   0   0   0   0   0\n",
      "   0   0   0   0   0   0   0   0   0   0   0   0   0   0   0 135 253 253\n",
      " 100   0   0   0   0   0   0   0   0   0   0   0   0   0   0   0   0   0\n",
      "   0   0   0   0   0   0   0 153 253 240  76   0   0   0   0   0   0   0\n",
      "   0   0   0   0   0   0   0   0   0   0   0   0   0   0   0   0  12 208\n",
      " 253 166   0   0   0   0   0   0   0   0   0   0   0   0   0   0   0   0\n",
      "   0   0   0   0   0   0   0   0  69 253 253 142   0   0   0   0   0   0\n",
      "   0   0   0   0   0   0   0   0   0   0   0   0   0   0   0   0   0  14\n",
      " 110 253 235  33   0   0   0   0   0   0   0   0   0   0   0   0   0   0\n",
      "   0   0   0   0   0   0   0   0   0  63 223 235 130   0   0   0   0   0\n",
      "   0   0   0   0   0   0   0   0   0   0   0   0   0   0   0   0   0   0\n",
      "   0 186 253 235  37   0   0   0   0   0   0   0   0   0   0   0   0   0\n",
      "   0   0   0   0   0   0   0   0   0   0  17 145 253 231  35   0   0   0\n",
      "   0   0   0   0   0   0   0   0   0   0   0   0   0   0   0   0   0   0\n",
      "   0   0  69 220 231 123   0   0   0   0   0   0   0   0   0   0   0   0\n",
      "   0   0   0   0   0   0   0   0   0   0   0  18 205 253 176  27   0   0\n",
      "   0   0   0   0   0   0   0   0   0   0   0   0   0   0   0   0   0   0\n",
      "   0   0  17 125 253 185  39   0   0   0   0   0   0   0   0   0   0   0\n",
      "   0   0   0   0   0   0   0   0   0   0   0   0  71 214 231  41   0   0\n",
      "   0   0   0   0   0   0   0   0   0   0   0   0   0   0   0   0   0   0\n",
      "   0   0   0   0 167 253 225  33   0   0   0   0   0   0   0   0   0   0\n",
      "   0   0   0   0   0   0   0   0   0   0   0   0   0  72 205 207  14   0\n",
      "   0   0   0   0   0   0   0   0   0   0   0   0   0   0   0   0   0   0\n",
      "   0   0   0   0  30 249 233  49   0   0   0   0   0   0   0   0   0   0\n",
      "   0   0   0   0   0   0   0   0   0   0   0   0   0   0  32 253  89   0\n",
      "   0   0   0   0   0   0   0   0   0   0   0   0   0   0   0   0   0   0\n",
      "   0   0   0   0   0   0   0   0   0   0   0   0   0   0   0   0   0   0\n",
      "   0   0   0   0   0   0   0   0   0   0   0   0   0   0   0   0   0   0\n",
      "   0   0   0   0   0   0   0   0   0   0   0   0   0   0   0   0   0   0\n",
      "   0   0   0   0   0   0   0   0   0   0   0   0   0   0   0   0   0   0\n",
      "   0   0   0   0   0   0   0   0   0   0]\n"
     ]
    }
   ],
   "source": [
    "import numpy as np\n",
    "import matplotlib.pyplot as plt\n",
    "import os\n",
    "import pandas as pd\n",
    "\n",
    "# Function to read MNIST data from CSV filey\n",
    "def read_mnist_csv(filename):\n",
    "    return pd.read_csv(filename, header=None).values[:, 1:]  # Exclude the label column\n",
    "\n",
    "# Path to the MNIST dataset\n",
    "data_path = \"mnist_dataset\"\n",
    "\n",
    "# Read MNIST train and test images from CSV files\n",
    "train_images = read_mnist_csv(os.path.join(data_path, 'mnist_train.csv'))\n",
    "test_images = read_mnist_csv(os.path.join(data_path, 'mnist_test.csv'))\n",
    "\n",
    "\"\"\"\n",
    "print(train_images.shape) = (60000, 784)\n",
    "\n",
    "\"\"\"\n",
    "\n",
    "Test_sample = train_images[99]\n",
    "\n",
    "# image show Test_sample\n",
    "plt.imshow(Test_sample.reshape(-28, 28), cmap='gray', aspect = 'auto')\n",
    "plt.title(f'Test Sample')\n",
    "plt.axis('off')\n",
    "plt.tight_layout()\n",
    "plt.show()\n",
    "\n",
    "print(Test_sample)"
   ]
  },
  {
   "cell_type": "code",
   "execution_count": 104,
   "metadata": {},
   "outputs": [
    {
     "name": "stdout",
     "output_type": "stream",
     "text": [
      "84\n"
     ]
    }
   ],
   "source": [
    "# count the number of non-zero entries in Test_sample\n",
    "print(np.count_nonzero(Test_sample))"
   ]
  },
  {
   "cell_type": "code",
   "execution_count": 105,
   "metadata": {},
   "outputs": [],
   "source": [
    "def generate_random_matrix(M, n_cols):\n",
    "    while True:\n",
    "        # Initialize an empty matrix\n",
    "        matrix = np.zeros((M, n_cols))\n",
    "\n",
    "        # Generate random values for each column\n",
    "        for i in range(n_cols):\n",
    "            # Generate a random column\n",
    "            column = np.random.normal(loc=0, scale=1/np.sqrt(M), size=(M,))\n",
    "            \n",
    "            # Ensure the column is linearly independent from previous columns\n",
    "            for j in range(i):\n",
    "                # Subtract the projection of the new column onto previous columns\n",
    "                column -= np.dot(matrix[:, j], column) * matrix[:, j]\n",
    "\n",
    "            # Normalize the column to ensure its L2 norm is 1\n",
    "            column /= np.linalg.norm(column)\n",
    "\n",
    "            # Set the column in the matrix\n",
    "            matrix[:, i] = column\n",
    "        \n",
    "        # Check if the rank condition is satisfied\n",
    "        if np.linalg.matrix_rank(matrix) == M:\n",
    "            break\n",
    "    \n",
    "    return matrix"
   ]
  },
  {
   "cell_type": "code",
   "execution_count": 106,
   "metadata": {},
   "outputs": [],
   "source": [
    "def IHT(A, y, s, tol):\n",
    "    z = np.zeros(A.shape[1])  # Initialize the sparse vector z\n",
    "    r = y  # Initialize the residual vector r\n",
    "    n = 0  # Initialize iteration count\n",
    "    \n",
    "    while np.linalg.norm(r) > tol and n < 5000:  # Add a maximum iteration count to avoid infinite loop\n",
    "        # Update the approximation x\n",
    "        x = z + np.dot(A.T, y - np.dot(A, z))\n",
    "        \n",
    "        # Apply the hard thresholding operator to x\n",
    "        indices = np.argsort(np.abs(x))[-s:]  # Indices of the s largest absolute entries\n",
    "        z = np.zeros_like(x)  # Reset z to zeros\n",
    "        z[indices] = x[indices]  # Set the s largest entries of x to z\n",
    "        \n",
    "        # Update the residual vector\n",
    "        r = y - np.dot(A, z)\n",
    "        \n",
    "        n += 1  # Increment iteration count\n",
    "\n",
    "    return z"
   ]
  },
  {
   "cell_type": "code",
   "execution_count": 107,
   "metadata": {},
   "outputs": [
    {
     "name": "stderr",
     "output_type": "stream",
     "text": [
      "/var/folders/77/2m8y7_gs1fd5t207n01qz35c0000gn/T/ipykernel_78193/893863266.py:8: RuntimeWarning: invalid value encountered in add\n",
      "  x = z + np.dot(A.T, y - np.dot(A, z))\n"
     ]
    },
    {
     "data": {
      "image/png": "[encoded data removed]",
      "text/plain": [
       "<Figure size 640x480 with 1 Axes>"
      ]
     },
     "metadata": {},
     "output_type": "display_data"
    }
   ],
   "source": [
    "np.random.seed(42)  # set the random seed\n",
    "M = 300 # number of measurements\n",
    "A = generate_random_matrix(M, 784)\n",
    "\n",
    "y = np.dot(A, Test_sample)\n",
    "estimated_x = IHT(A, y, 84, 1e-8)\n",
    "\n",
    "# reshape estimated_x to 28x28 image\n",
    "plt.imshow(estimated_x.reshape(-28, 28), cmap='gray', aspect='auto')\n",
    "plt.title(f'estimated_x with M = {M} measurements')\n",
    "plt.axis('off')\n",
    "plt.show()\n"
   ]
  },
  {
   "cell_type": "code",
   "execution_count": 108,
   "metadata": {},
   "outputs": [
    {
     "name": "stdout",
     "output_type": "stream",
     "text": [
      "84\n",
      "[ 0.  0.  0.  0.  0.  0.  0.  0.  0.  0.  0.  0.  0.  0.  0.  0.  0.  0.\n",
      "  0.  0.  0.  0.  0.  0.  0.  0.  0.  0.  0.  0.  0.  0.  0.  0.  0.  0.\n",
      "  0.  0.  0.  0.  0.  0.  0.  0.  0.  0.  0.  0.  0.  0.  0.  0.  0.  0.\n",
      "  0.  0.  0.  0.  0.  0.  0.  0.  0.  0.  0.  0.  0.  0.  0.  0.  0.  0.\n",
      "  0.  0.  0.  0.  0.  0.  0.  0.  0.  0.  0.  0.  0.  0.  0.  0.  0.  0.\n",
      "  0.  0.  0.  0.  0.  0.  0.  0.  0.  0.  0.  0.  0.  0.  0.  0.  0.  0.\n",
      "  0.  0.  0.  0.  0.  0.  0.  0.  0.  0.  0.  0.  0.  0.  0.  0.  0.  0.\n",
      "  0.  0.  0.  0.  0.  0.  0.  0.  0.  0.  0.  0.  0.  0.  0.  0.  0.  0.\n",
      "  0.  0.  0.  0.  0.  0.  0.  0.  0.  0.  0.  0.  0.  0.  0.  0.  0.  0.\n",
      "  0.  0.  0.  0.  0.  0.  0.  0.  0.  0.  0.  0.  0.  0.  0.  0.  0.  0.\n",
      "  0.  0.  0.  0.  0.  0.  0.  0.  0.  0.  0.  0.  0.  0.  0.  0.  0. nan\n",
      " nan nan nan nan nan nan nan nan nan nan nan nan nan nan nan nan nan nan\n",
      " nan nan nan nan nan  0.  0.  0.  0.  0.  0.  0.  0.  0.  0.  0. nan  0.\n",
      "  0. nan nan nan nan nan nan nan nan nan nan nan nan nan nan nan nan nan\n",
      " nan nan nan nan nan nan nan nan nan nan nan nan nan nan nan nan nan nan\n",
      " nan nan nan nan nan nan nan nan nan nan nan nan nan nan nan nan nan nan\n",
      " nan nan nan nan  0.  0.  0.  0.  0.  0.  0.  0.  0.  0.  0.  0.  0.  0.\n",
      "  0.  0.  0.  0.  0.  0.  0.  0.  0.  0.  0.  0.  0.  0.  0.  0.  0.  0.\n",
      "  0.  0.  0.  0.  0.  0.  0.  0.  0.  0.  0.  0.  0.  0.  0.  0.  0.  0.\n",
      "  0.  0.  0.  0.  0.  0.  0.  0.  0.  0.  0.  0.  0.  0.  0.  0.  0.  0.\n",
      "  0.  0.  0.  0.  0.  0.  0.  0.  0.  0.  0.  0.  0.  0.  0.  0.  0.  0.\n",
      "  0.  0.  0.  0.  0.  0.  0.  0.  0.  0.  0.  0.  0.  0.  0.  0.  0.  0.\n",
      "  0.  0.  0.  0.  0.  0.  0.  0.  0.  0.  0.  0.  0.  0.  0.  0.  0.  0.\n",
      "  0.  0.  0.  0.  0.  0.  0.  0.  0.  0.  0.  0.  0.  0.  0.  0.  0.  0.\n",
      "  0.  0.  0.  0.  0.  0.  0.  0.  0.  0.  0.  0.  0.  0.  0.  0.  0.  0.\n",
      "  0.  0.  0.  0.  0.  0.  0.  0.  0.  0.  0.  0.  0.  0.  0.  0.  0.  0.\n",
      "  0.  0.  0.  0.  0.  0.  0.  0.  0.  0.  0.  0.  0.  0.  0.  0.  0.  0.\n",
      "  0.  0.  0.  0.  0.  0.  0.  0.  0.  0.  0.  0.  0.  0.  0.  0.  0.  0.\n",
      "  0.  0.  0.  0.  0.  0.  0.  0.  0.  0.  0.  0.  0.  0.  0.  0.  0.  0.\n",
      "  0.  0.  0.  0.  0.  0.  0.  0.  0.  0.  0.  0.  0.  0.  0.  0.  0.  0.\n",
      "  0.  0.  0.  0.  0.  0.  0.  0.  0.  0.  0.  0.  0.  0.  0.  0.  0.  0.\n",
      "  0.  0.  0.  0.  0.  0.  0.  0.  0.  0.  0.  0.  0.  0.  0.  0.  0.  0.\n",
      "  0.  0.  0.  0.  0.  0.  0.  0.  0.  0.  0.  0.  0.  0.  0.  0.  0.  0.\n",
      "  0.  0.  0.  0.  0.  0.  0.  0.  0.  0.  0.  0.  0.  0.  0.  0.  0.  0.\n",
      "  0.  0.  0.  0.  0.  0.  0.  0.  0.  0.  0.  0.  0.  0.  0.  0.  0.  0.\n",
      "  0.  0.  0.  0.  0.  0.  0.  0.  0.  0.  0.  0.  0.  0.  0.  0.  0.  0.\n",
      "  0.  0.  0.  0.  0.  0.  0.  0.  0.  0.  0.  0.  0.  0.  0.  0.  0.  0.\n",
      "  0.  0.  0.  0.  0.  0.  0.  0.  0.  0.  0.  0.  0.  0.  0.  0.  0.  0.\n",
      "  0.  0.  0.  0.  0.  0.  0.  0.  0.  0.  0.  0.  0.  0.  0.  0.  0.  0.\n",
      "  0.  0.  0.  0.  0.  0.  0.  0.  0.  0.  0.  0.  0.  0.  0.  0.  0.  0.\n",
      "  0.  0.  0.  0.  0.  0.  0.  0.  0.  0.  0.  0.  0.  0.  0.  0.  0.  0.\n",
      "  0.  0.  0.  0.  0.  0.  0.  0.  0.  0.  0.  0.  0.  0.  0.  0.  0.  0.\n",
      "  0.  0.  0.  0.  0.  0.  0.  0.  0.  0.  0.  0.  0.  0.  0.  0.  0.  0.\n",
      "  0.  0.  0.  0.  0.  0.  0.  0. nan nan]\n"
     ]
    }
   ],
   "source": [
    "\n",
    "# count the number of non-zero entries in Test_sample\n",
    "print(np.count_nonzero(estimated_x))\n",
    "print(estimated_x)"
   ]
  },
  {
   "cell_type": "code",
   "execution_count": 109,
   "metadata": {},
   "outputs": [
    {
     "name": "stderr",
     "output_type": "stream",
     "text": [
      "/var/folders/77/2m8y7_gs1fd5t207n01qz35c0000gn/T/ipykernel_78193/893863266.py:8: RuntimeWarning: invalid value encountered in add\n",
      "  x = z + np.dot(A.T, y - np.dot(A, z))\n"
     ]
    },
    {
     "name": "stdout",
     "output_type": "stream",
     "text": [
      "0\n",
      "1\n",
      "2\n",
      "3\n",
      "4\n",
      "5\n",
      "6\n",
      "7\n",
      "8\n",
      "9\n",
      "10\n"
     ]
    }
   ],
   "source": [
    "# Number of measurements\n",
    "M = [200, 250, 300, 350, 400, 450, 500, 550, 600, 650, 700]\n",
    "MSE = []\n",
    "for i in range(len(M)):  # Fix: Access the elements of the list M using the index i\n",
    "    A = generate_random_matrix(M[i], 784)\n",
    "    y = np.dot(A, Test_sample)\n",
    "    estimated_x = IHT(A, y, 84, 1e-8)\n",
    "    diff = Test_sample - estimated_x\n",
    "    diff = diff / 255  # Normalize the difference vector\n",
    "    MSE.append(np.linalg.norm(diff))\n",
    "    print(i)"
   ]
  },
  {
   "cell_type": "code",
   "execution_count": 110,
   "metadata": {},
   "outputs": [
    {
     "name": "stdout",
     "output_type": "stream",
     "text": [
      "[nan, inf, inf, inf, 3.2771840328066884e-11, 2.715898260507122e-11, 3.089310122094769e-11, 3.363602906946923e-11, 2.2229152262202356e-11, 2.942964146723674e-11, 4.533457593003087e-16]\n"
     ]
    }
   ],
   "source": [
    "print(MSE)"
   ]
  },
  {
   "cell_type": "code",
   "execution_count": 111,
   "metadata": {},
   "outputs": [
    {
     "name": "stdout",
     "output_type": "stream",
     "text": [
      "0\n",
      "1\n",
      "2\n",
      "3\n"
     ]
    },
    {
     "name": "stderr",
     "output_type": "stream",
     "text": [
      "/var/folders/77/2m8y7_gs1fd5t207n01qz35c0000gn/T/ipykernel_78193/893863266.py:8: RuntimeWarning: invalid value encountered in add\n",
      "  x = z + np.dot(A.T, y - np.dot(A, z))\n"
     ]
    },
    {
     "name": "stdout",
     "output_type": "stream",
     "text": [
      "4\n",
      "5\n",
      "6\n",
      "7\n",
      "8\n",
      "9\n",
      "10\n",
      "11\n"
     ]
    },
    {
     "name": "stderr",
     "output_type": "stream",
     "text": [
      "/Users/kevingao/anaconda3/lib/python3.11/site-packages/matplotlib/image.py:460: RuntimeWarning: overflow encountered in scalar subtract\n",
      "  dv = np.float64(self.norm.vmax) - np.float64(self.norm.vmin)\n",
      "/Users/kevingao/anaconda3/lib/python3.11/site-packages/matplotlib/image.py:463: RuntimeWarning: invalid value encountered in scalar subtract\n",
      "  newmin = vmid - dv * fact\n"
     ]
    },
    {
     "data": {
      "image/png": "[encoded data removed]",
      "text/plain": [
       "<Figure size 1500x800 with 12 Axes>"
      ]
     },
     "metadata": {},
     "output_type": "display_data"
    }
   ],
   "source": [
    "# Number of measurements\n",
    "M = [168, 200, 250, 300, 350, 400, 450, 500, 550, 600, 650, 700]\n",
    "MSE = []\n",
    "Recovered_x = []\n",
    "for i in range(len(M)):  \n",
    "    A = generate_random_matrix(M[i], 784)\n",
    "    y = np.dot(A, Test_sample)\n",
    "    estimated_x = IHT(A, y, 84, 1e-8)\n",
    "    Recovered_x.append(estimated_x)\n",
    "    diff = Test_sample - estimated_x\n",
    "    MSE.append(np.linalg.norm(diff))\n",
    "    print(i)\n",
    "\n",
    "# Reshape estimated_x to 28x28 image and plot\n",
    "plt.figure(figsize=(15, 8))\n",
    "for i in range(len(M)):\n",
    "    \n",
    "    plt.subplot(3, 4, i+1)\n",
    "    plt.imshow(Recovered_x[i].reshape(28, 28), cmap='gray')\n",
    "    plt.title(f'M = {M[i]}')\n",
    "    plt.axis('off')\n",
    "\n",
    "plt.suptitle('Estimated_x under different M values using IHT Algorithm', fontsize=16)\n",
    "plt.tight_layout()\n",
    "plt.show()"
   ]
  }
 ],
 "metadata": {
  "kernelspec": {
   "display_name": "base",
   "language": "python",
   "name": "python3"
  },
  "language_info": {
   "codemirror_mode": {
    "name": "ipython",
    "version": 3
   },
   "file_extension": ".py",
   "mimetype": "text/x-python",
   "name": "python",
   "nbconvert_exporter": "python",
   "pygments_lexer": "ipython3",
   "version": "3.11.0"
  }
 },
 "nbformat": 4,
 "nbformat_minor": 2
}
