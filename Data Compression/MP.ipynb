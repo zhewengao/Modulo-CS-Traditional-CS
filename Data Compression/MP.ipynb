{
 "cells": [
  {
   "cell_type": "code",
   "execution_count": 1,
   "metadata": {},
   "outputs": [],
   "source": [
    "import numpy as np\n",
    "import matplotlib.pyplot as plt\n",
    "import os\n",
    "import pandas as pd"
   ]
  },
  {
   "cell_type": "markdown",
   "metadata": {},
   "source": [
    "# Task One"
   ]
  },
  {
   "cell_type": "code",
   "execution_count": 2,
   "metadata": {},
   "outputs": [
    {
     "data": {
      "text/plain": [
       "'\\nprint(train_images.shape) = (60000, 784)\\n\\n'"
      ]
     },
     "execution_count": 2,
     "metadata": {},
     "output_type": "execute_result"
    }
   ],
   "source": [
    "# Function to read MNIST data from CSV file\n",
    "def read_mnist_csv(filename):\n",
    "    return pd.read_csv(filename, header=None).values[:, 1:]  # Exclude the label column\n",
    "\n",
    "# Path to the MNIST dataset\n",
    "data_path = \"mnist_dataset\"\n",
    "\n",
    "# Read MNIST train and test images from CSV files\n",
    "train_images = read_mnist_csv(os.path.join(data_path, 'mnist_train.csv'))\n",
    "test_images = read_mnist_csv(os.path.join(data_path, 'mnist_test.csv'))\n",
    "\n",
    "\"\"\"\n",
    "print(train_images.shape) = (60000, 784)\n",
    "\n",
    "\"\"\""
   ]
  },
  {
   "cell_type": "markdown",
   "metadata": {},
   "source": [
    "# Select the first image to do the project"
   ]
  },
  {
   "cell_type": "code",
   "execution_count": 3,
   "metadata": {},
   "outputs": [
    {
     "data": {
      "image/png": "[encoded data removed]",
      "text/plain": [
       "<Figure size 640x480 with 1 Axes>"
      ]
     },
     "metadata": {},
     "output_type": "display_data"
    },
    {
     "name": "stdout",
     "output_type": "stream",
     "text": [
      "[  0   0   0   0   0   0   0   0   0   0   0   0   0   0   0   0   0   0\n",
      "   0   0   0   0   0   0   0   0   0   0   0   0   0   0   0   0   0   0\n",
      "   0   0   0   0   0   0   0   0   0   0   0   0   0   0   0   0   0   0\n",
      "   0   0   0   0   0   0   0   0   0   0   0   0   0   0   0   0   0   0\n",
      "   0   0   0   0   0   0   0   0   0   0   0   0   0   0   0   0   0   0\n",
      "   0   0   0   0   0   0   0   0   0   0   0   0   0   0   0   0   0   0\n",
      "   0   0   0   0   0   0   0   0   0   0   0   0   0   0   0   0   0   0\n",
      "   0   0   0   0   0   0   0   0   0   0   0   0   0   0   0   0   0   0\n",
      "   0   0   0   0   0   0   0   0   0   0   0   0  85 255 103   1   0   0\n",
      "   0   0   0   0   0   0   0   0   0   0   0   0   0   0   0   0   0   0\n",
      "   0   0   0   0 205 253 253  30   0   0   0   0   0   0   0   0   0   0\n",
      "   0   0   0   0   0   0   0   0   0   0   0   0   0   0 205 253 253  30\n",
      "   0   0   0   0   0   0   0   0   0   0   0   0   0   0   0   0   0   0\n",
      "   0   0   0   0   0  44 233 253 244  27   0   0   0   0   0   0   0   0\n",
      "   0   0   0   0   0   0   0   0   0   0   0   0   0   0   0 135 253 253\n",
      " 100   0   0   0   0   0   0   0   0   0   0   0   0   0   0   0   0   0\n",
      "   0   0   0   0   0   0   0 153 253 240  76   0   0   0   0   0   0   0\n",
      "   0   0   0   0   0   0   0   0   0   0   0   0   0   0   0   0  12 208\n",
      " 253 166   0   0   0   0   0   0   0   0   0   0   0   0   0   0   0   0\n",
      "   0   0   0   0   0   0   0   0  69 253 253 142   0   0   0   0   0   0\n",
      "   0   0   0   0   0   0   0   0   0   0   0   0   0   0   0   0   0  14\n",
      " 110 253 235  33   0   0   0   0   0   0   0   0   0   0   0   0   0   0\n",
      "   0   0   0   0   0   0   0   0   0  63 223 235 130   0   0   0   0   0\n",
      "   0   0   0   0   0   0   0   0   0   0   0   0   0   0   0   0   0   0\n",
      "   0 186 253 235  37   0   0   0   0   0   0   0   0   0   0   0   0   0\n",
      "   0   0   0   0   0   0   0   0   0   0  17 145 253 231  35   0   0   0\n",
      "   0   0   0   0   0   0   0   0   0   0   0   0   0   0   0   0   0   0\n",
      "   0   0  69 220 231 123   0   0   0   0   0   0   0   0   0   0   0   0\n",
      "   0   0   0   0   0   0   0   0   0   0   0  18 205 253 176  27   0   0\n",
      "   0   0   0   0   0   0   0   0   0   0   0   0   0   0   0   0   0   0\n",
      "   0   0  17 125 253 185  39   0   0   0   0   0   0   0   0   0   0   0\n",
      "   0   0   0   0   0   0   0   0   0   0   0   0  71 214 231  41   0   0\n",
      "   0   0   0   0   0   0   0   0   0   0   0   0   0   0   0   0   0   0\n",
      "   0   0   0   0 167 253 225  33   0   0   0   0   0   0   0   0   0   0\n",
      "   0   0   0   0   0   0   0   0   0   0   0   0   0  72 205 207  14   0\n",
      "   0   0   0   0   0   0   0   0   0   0   0   0   0   0   0   0   0   0\n",
      "   0   0   0   0  30 249 233  49   0   0   0   0   0   0   0   0   0   0\n",
      "   0   0   0   0   0   0   0   0   0   0   0   0   0   0  32 253  89   0\n",
      "   0   0   0   0   0   0   0   0   0   0   0   0   0   0   0   0   0   0\n",
      "   0   0   0   0   0   0   0   0   0   0   0   0   0   0   0   0   0   0\n",
      "   0   0   0   0   0   0   0   0   0   0   0   0   0   0   0   0   0   0\n",
      "   0   0   0   0   0   0   0   0   0   0   0   0   0   0   0   0   0   0\n",
      "   0   0   0   0   0   0   0   0   0   0   0   0   0   0   0   0   0   0\n",
      "   0   0   0   0   0   0   0   0   0   0]\n"
     ]
    }
   ],
   "source": [
    "Test_sample = train_images[99]\n",
    "\n",
    "# image show Test_sample\n",
    "plt.imshow(Test_sample.reshape(-28, 28), cmap='gray')\n",
    "plt.title(f'Test Sample')\n",
    "plt.axis('off')\n",
    "plt.show()\n",
    "\n",
    "print(Test_sample)"
   ]
  },
  {
   "cell_type": "code",
   "execution_count": 4,
   "metadata": {},
   "outputs": [
    {
     "name": "stdout",
     "output_type": "stream",
     "text": [
      "84\n"
     ]
    }
   ],
   "source": [
    "# count the number of non-zero entries in Test_sample\n",
    "print(np.count_nonzero(Test_sample))"
   ]
  },
  {
   "cell_type": "code",
   "execution_count": 5,
   "metadata": {},
   "outputs": [],
   "source": [
    "# Generate fat random matrices with varying numbers of columns M\n",
    "\n",
    "def generate_random_matrix(M, n_cols):\n",
    "    while True:\n",
    "        # Initialize an empty matrix\n",
    "        matrix = np.zeros((M, n_cols))\n",
    "\n",
    "        # Generate random values for each column\n",
    "        for i in range(n_cols):\n",
    "            # Generate a random column\n",
    "            column = np.random.normal(loc=0, scale=1/np.sqrt(M), size=(M,))\n",
    "            \n",
    "            # Ensure the column is linearly independent from previous columns\n",
    "            for j in range(i):\n",
    "                # Subtract the projection of the new column onto previous columns\n",
    "                column -= np.dot(matrix[:, j], column) * matrix[:, j]\n",
    "\n",
    "            # Normalize the column to ensure its L2 norm is 1\n",
    "            column /= np.linalg.norm(column)\n",
    "\n",
    "            # Set the column in the matrix\n",
    "            matrix[:, i] = column\n",
    "        \n",
    "        # Check if the rank condition is satisfied\n",
    "        if np.linalg.matrix_rank(matrix) == M:\n",
    "            break\n",
    "    \n",
    "    return matrix\n",
    "\n",
    "# Basic Matching Pursuit algorithm\n",
    "def basic_matching_pursuit(A, y, error):\n",
    "    \"\"\"\n",
    "    Solve the Basis Pursuit problem using the Basic Matching Pursuit algorithm.\n",
    "\n",
    "    Parameters:\n",
    "    - A (ndarray): The measurement matrix.\n",
    "    - y (ndarray): The measurement vector.\n",
    "    - error (float): The error tolerance for stopping the algorithm.\n",
    "\n",
    "    Returns:\n",
    "    - z (ndarray): The estimated sparse vector.\n",
    "    - r (ndarray): The residual vector.\n",
    "    \"\"\"\n",
    "    z = np.zeros(A.shape[1])\n",
    "    r = y\n",
    "    iteration = 0\n",
    "    \n",
    "    while True:\n",
    "        # Compute the correlation of the residual with each column of A\n",
    "        correlations = np.abs(np.dot(A.T, r))\n",
    "        # Find the index of the column with the maximum correlation\n",
    "        j = np.argmax(correlations)\n",
    "        # Update the estimate\n",
    "        z[j] = z[j] + np.dot(A[:, j].T, r)\n",
    "        # Update the residual\n",
    "        r = y - np.dot(A, z)\n",
    "        # Check the stopping criterion\n",
    "        if np.linalg.norm(r) < error:\n",
    "            break\n",
    "        iteration += 1\n",
    "    return z\n",
    "\n",
    "\n"
   ]
  },
  {
   "cell_type": "code",
   "execution_count": 8,
   "metadata": {},
   "outputs": [
    {
     "name": "stdout",
     "output_type": "stream",
     "text": [
      "0\n",
      "1\n",
      "2\n",
      "3\n",
      "4\n",
      "5\n",
      "6\n",
      "7\n",
      "8\n",
      "9\n",
      "10\n",
      "11\n"
     ]
    },
    {
     "data": {
      "image/png": "[encoded data removed]",
      "text/plain": [
       "<Figure size 1500x800 with 12 Axes>"
      ]
     },
     "metadata": {},
     "output_type": "display_data"
    }
   ],
   "source": [
    "# Define your functions generate_random_matrix and orthogonal_matching_pursuit here\n",
    "\n",
    "np.random.seed(42)  # set the random seed\n",
    "\n",
    "# Number of measurements\n",
    "M = [168, 200, 250, 300, 350, 400, 450, 500, 550, 600, 650, 700]\n",
    "MSE = []\n",
    "Recovered_x = []\n",
    "for i in range(len(M)):  \n",
    "    A = generate_random_matrix(M[i], 784)\n",
    "    y = np.dot(A, Test_sample)\n",
    "    estimated_x = basic_matching_pursuit(A, y, 1e-12)\n",
    "    Recovered_x.append(estimated_x)\n",
    "    diff = Test_sample - estimated_x\n",
    "    diff = diff / 255.0\n",
    "    MSE.append(np.linalg.norm(diff))\n",
    "    print(i)\n",
    "\n",
    "# Reshape estimated_x to 28x28 image and plot\n",
    "plt.figure(figsize=(15, 8))\n",
    "for i in range(len(M)):\n",
    "    plt.subplot(3, 4, i+1)\n",
    "    plt.imshow(Recovered_x[i].reshape(28, 28), cmap='gray')\n",
    "    plt.title(f'M = {M[i]}')\n",
    "    plt.axis('off')\n",
    "\n",
    "plt.suptitle('Estimated_x under different M values using MP Algorithm', fontsize=16)\n",
    "plt.tight_layout()\n",
    "plt.show()    "
   ]
  },
  {
   "cell_type": "code",
   "execution_count": 9,
   "metadata": {},
   "outputs": [
    {
     "name": "stdout",
     "output_type": "stream",
     "text": [
      "[7.34440883831099, 5.2590405557734785, 4.2354064876471496, 0.20399989598617208, 1.5860433629458492, 3.5325245993104957e-11, 1.769486811671614e-13, 4.94829283525064e-15, 4.257307829771608e-15, 4.42558504109913e-15, 4.125340234683867e-15, 3.773147681103597e-15]\n"
     ]
    }
   ],
   "source": [
    "print(MSE)\n"
   ]
  },
  {
   "cell_type": "code",
   "execution_count": 42,
   "metadata": {},
   "outputs": [
    {
     "data": {
      "image/png": "[encoded data removed]",
      "text/plain": [
       "<Figure size 640x480 with 1 Axes>"
      ]
     },
     "metadata": {},
     "output_type": "display_data"
    }
   ],
   "source": [
    "# reshape estimated_x to 28x28 image\n",
    "plt.imshow(estimated_x.reshape(-28, 28), cmap='gray', aspect='auto')\n",
    "plt.title(f'estimated_x')\n",
    "plt.axis('off')\n",
    "plt.show()"
   ]
  },
  {
   "cell_type": "code",
   "execution_count": 43,
   "metadata": {},
   "outputs": [
    {
     "name": "stdout",
     "output_type": "stream",
     "text": [
      "302.2004605917891\n"
     ]
    }
   ],
   "source": [
    "# calculate the l2 norm of error\n",
    "mse = np.linalg.norm(error)\n",
    "print(mse)"
   ]
  },
  {
   "cell_type": "code",
   "execution_count": null,
   "metadata": {},
   "outputs": [],
   "source": []
  }
 ],
 "metadata": {
  "kernelspec": {
   "display_name": "base",
   "language": "python",
   "name": "python3"
  },
  "language_info": {
   "codemirror_mode": {
    "name": "ipython",
    "version": 3
   },
   "file_extension": ".py",
   "mimetype": "text/x-python",
   "name": "python",
   "nbconvert_exporter": "python",
   "pygments_lexer": "ipython3",
   "version": "3.11.0"
  }
 },
 "nbformat": 4,
 "nbformat_minor": 2
}
