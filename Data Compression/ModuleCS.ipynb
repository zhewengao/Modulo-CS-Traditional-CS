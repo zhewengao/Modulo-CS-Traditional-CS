{
 "cells": [
  {
   "cell_type": "code",
   "execution_count": 2,
   "metadata": {},
   "outputs": [
    {
     "data": {
      "image/png": "[encoded data removed]",
      "text/plain": [
       "<Figure size 640x480 with 1 Axes>"
      ]
     },
     "metadata": {},
     "output_type": "display_data"
    },
    {
     "name": "stdout",
     "output_type": "stream",
     "text": [
      "[  0   0   0   0   0   0   0   0   0   0   0   0   0   0   0   0   0   0\n",
      "   0   0   0   0   0   0   0   0   0   0   0   0   0   0   0   0   0   0\n",
      "   0   0   0   0   0   0   0   0   0   0   0   0   0   0   0   0   0   0\n",
      "   0   0   0   0   0   0   0   0   0   0   0   0   0   0   0   0   0   0\n",
      "   0   0   0   0   0   0   0   0   0   0   0   0   0   0   0   0   0   0\n",
      "   0   0   0   0   0   0   0   0   0   0   0   0   0   0   0   0   0   0\n",
      "   0   0   0   0   0   0   0   0   0   0   0   0   0   0   0   0  31  92\n",
      "   0 131 254 254 254 255 189  18   0   0   0   0   0   0   0   0   0   0\n",
      "   0   0   0   0   0   0   6 127 216 248 178 241 253 253 253 253 253 177\n",
      "  19   0   0   0   0   0   0   0   0   0   0   0   0   0   0   0 121 253\n",
      " 253 253 129  95 107 107 142 253 253 253  99   0   0   0   0   0   0   0\n",
      "   0   0   0   0   0   0   0   0 185 253 253 253 129   0   0   0  25 197\n",
      " 253 233  63   0   0   0   0   0   0   0   0   0   0   0   0   0   0   0\n",
      "  63 214 214 107  31   0   0   0  86 253 253 199   0   0   0   0   0   0\n",
      "   0   0   0   0   0   0   0   0   0   0   0   0   0   0   0   0   9 139\n",
      " 236 253 253 115   0   0   0   0   0   0   0   0   0   0   0   0   0   0\n",
      "   0   0   0   0   0   0   0  76 189 253 253 250 103   3   0   0   0   0\n",
      "   0   0   0   0   0   0   0   0   0   0   0   0   0  17  31 139 185 245\n",
      " 253 253 245 122   0   0   0   0   0   0   0   0   0   0   0   0   0   0\n",
      "   0   0   0   0  17 194 253 253 253 253 245 123  93   0   0   0   0   0\n",
      "   0   0   0   0   0   0   0   0   0   0   0   0   0   0 126 253 253 253\n",
      " 253 253 237   0   0   0   0   0   0   0   0   0   0   0   0   0   0   0\n",
      "   0   0   0   0   0   0  29 230 251 253 253 253 239  13   0   0   0   0\n",
      "   0   0   0   0   0   0   0   0   0   0   0   0   0   0   0   0   0   0\n",
      " 119 129 129 239 253 194  19   0   0   0   0   0   0   0   0   0   0   0\n",
      "   0   0   0   0   0   0   0   0   0   0   0   0   0 224 253 253  80   0\n",
      "   0   0   0   0   0   0   0   0   0   0   0  68 169  81   1   0   0   0\n",
      "   0   0   0   0   0 224 253 253 191   0   0   0   0   0   0   0   0   0\n",
      "   0   0   0 171 253 253   7   0   0   0   0   0   0   0   0 224 253 253\n",
      " 121   0   0   0   0   0   0   0   0   0   0   0   0 124 253 253 160  15\n",
      "   0   0   0   0   0  58 216 249 253 225  29   0   0   0   0   0   0   0\n",
      "   0   0   0   0   0  37 219 253 253 160   8   8   8   8   8 180 253 253\n",
      " 252 133   0   0   0   0   0   0   0   0   0   0   0   0   0   0 116 207\n",
      " 253 253 253 253 253 253 253 253 253 253 172   0   0   0   0   0   0   0\n",
      "   0   0   0   0   0   0   0   0   0  26 248 253 253 253 253 253 253 253\n",
      " 253 205  66   0   0   0   0   0   0   0   0   0   0   0   0   0   0   0\n",
      "   0   0  97 123 253 253 253 253 113  99  99  12   0   0   0   0   0   0\n",
      "   0   0   0   0   0   0   0   0   0   0   0   0   0   0   0   0   0   0\n",
      "   0   0   0   0   0   0   0   0   0   0   0   0   0   0   0   0   0   0\n",
      "   0   0   0   0   0   0   0   0   0   0   0   0   0   0   0   0   0   0\n",
      "   0   0   0   0   0   0   0   0   0   0   0   0   0   0   0   0   0   0\n",
      "   0   0   0   0   0   0   0   0   0   0   0   0   0   0   0   0   0   0\n",
      "   0   0   0   0   0   0   0   0   0   0   0   0   0   0   0   0   0   0\n",
      "   0   0   0   0   0   0   0   0   0   0]\n"
     ]
    }
   ],
   "source": [
    "import numpy as np\n",
    "import matplotlib.pyplot as plt\n",
    "import os\n",
    "import pandas as pd\n",
    "import sys\n",
    "import cvxpy as cp\n",
    "from scipy.optimize import minimize\n",
    "import numpy.linalg as la\n",
    "# Function to read MNIST data from CSV filey\n",
    "def read_mnist_csv(filename):\n",
    "    return pd.read_csv(filename, header=None).values[:, 1:]  # Exclude the label column\n",
    "\n",
    "# Path to the MNIST dataset\n",
    "data_path = \"mnist_dataset\"\n",
    "\n",
    "# Read MNIST train and test images from CSV files\n",
    "train_images = read_mnist_csv(os.path.join(data_path, 'mnist_train.csv'))\n",
    "test_images = read_mnist_csv(os.path.join(data_path, 'mnist_test.csv'))\n",
    "\n",
    "\"\"\"\n",
    "print(train_images.shape) = (60000, 784)\n",
    "\n",
    "\"\"\"\n",
    "\n",
    "Test_sample = train_images[255]\n",
    "\n",
    "# image show Test_sample\n",
    "plt.imshow(Test_sample.reshape(-28, 28), cmap='gray', aspect = 'auto')\n",
    "plt.title(f'Test Sample')\n",
    "plt.axis('off')\n",
    "plt.tight_layout()\n",
    "plt.show()\n",
    "\n",
    "print(Test_sample)"
   ]
  },
  {
   "cell_type": "code",
   "execution_count": 3,
   "metadata": {},
   "outputs": [
    {
     "name": "stdout",
     "output_type": "stream",
     "text": [
      "188\n"
     ]
    }
   ],
   "source": [
    "# count the number of non-zero entries in Test_sample\n",
    "print(np.count_nonzero(Test_sample))"
   ]
  },
  {
   "cell_type": "code",
   "execution_count": 25,
   "metadata": {},
   "outputs": [],
   "source": [
    "def generate_random_matrix(M, N, s):\n",
    "    if M < 2 * s + 1:\n",
    "        raise ValueError(\"Matrix dimensions do not satisfy the condition M >= 2s + 1.\")\n",
    "    \n",
    "    # Generate a random matrix with elements from a Gaussian distribution N(0, 1/M)\n",
    "    matrix = np.random.normal(loc=0, scale=1/np.sqrt(M), size=(M, N))\n",
    "    \n",
    "    # Ensure any 2s columns of A are linearly independent\n",
    "    matrix[:, :2 * s] = np.linalg.qr(matrix[:, :2 * s])[0]\n",
    "    \n",
    "    # Normalize each column vector to ensure its L2 norm is 1\n",
    "    for i in range(2 * s, N):\n",
    "        column = matrix[:, i]\n",
    "        matrix[:, i] = column / np.linalg.norm(column)\n",
    "    \n",
    "    return matrix\n",
    "\n",
    "# Example usage:\n",
    "M = 7  # Ensure M >= 2s + 1, let's choose M = 7\n",
    "N = 10\n",
    "s = 3  # Choose any value for s, ensuring it satisfies the condition\n",
    "random_matrix = generate_random_matrix(M, N, s)\n",
    "\n"
   ]
  },
  {
   "cell_type": "code",
   "execution_count": 26,
   "metadata": {},
   "outputs": [
    {
     "name": "stdout",
     "output_type": "stream",
     "text": [
      "0.9999999999999998\n",
      "0.9999999999999998\n",
      "0.9999999999999999\n",
      "0.9999999999999999\n",
      "1.0\n",
      "1.0\n",
      "1.0\n",
      "1.0\n",
      "0.9999999999999998\n",
      "1.0\n"
     ]
    }
   ],
   "source": [
    "# print the l2 norm of each column vector\n",
    "for i in range(N):\n",
    "    column = random_matrix[:, i]\n",
    "    print(np.linalg.norm(column))"
   ]
  },
  {
   "cell_type": "code",
   "execution_count": 27,
   "metadata": {},
   "outputs": [
    {
     "name": "stdout",
     "output_type": "stream",
     "text": [
      "Dot product of column 0 and column 1: 7.215011432473545e-17\n",
      "Dot product of column 0 and column 2: -4.058060589104165e-17\n",
      "Dot product of column 0 and column 3: -1.44349149286036e-16\n",
      "Dot product of column 0 and column 4: 9.197841907079397e-17\n",
      "Dot product of column 0 and column 5: 9.467130314127884e-18\n",
      "Dot product of column 0 and column 6: 0.9365682444199595\n",
      "Dot product of column 0 and column 7: -0.27000258964475\n",
      "Dot product of column 0 and column 8: -0.508388993287738\n",
      "Dot product of column 0 and column 9: -0.1598543430939681\n",
      "Dot product of column 1 and column 2: 8.190989620968535e-17\n",
      "Dot product of column 1 and column 3: -1.8567657694838038e-16\n",
      "Dot product of column 1 and column 4: -7.589375774371384e-17\n",
      "Dot product of column 1 and column 5: -3.794848995059648e-17\n",
      "Dot product of column 1 and column 6: 0.16535561195368348\n",
      "Dot product of column 1 and column 7: 0.30677264538486354\n",
      "Dot product of column 1 and column 8: 0.4494465974781754\n",
      "Dot product of column 1 and column 9: -0.7611771765875575\n",
      "Dot product of column 2 and column 3: -2.3183802234406404e-17\n",
      "Dot product of column 2 and column 4: 8.61674485865317e-18\n",
      "Dot product of column 2 and column 5: 5.859475157721459e-17\n",
      "Dot product of column 2 and column 6: 0.16766272112585956\n",
      "Dot product of column 2 and column 7: 0.17436147077669414\n",
      "Dot product of column 2 and column 8: -0.12350925310821559\n",
      "Dot product of column 2 and column 9: -0.21056041426918917\n",
      "Dot product of column 3 and column 4: 2.690841701455751e-16\n",
      "Dot product of column 3 and column 5: -3.6714397259016065e-17\n",
      "Dot product of column 3 and column 6: 0.21546600698695062\n",
      "Dot product of column 3 and column 7: -0.747902366294198\n",
      "Dot product of column 3 and column 8: -0.35900854302813917\n",
      "Dot product of column 3 and column 9: -0.22089523693425622\n",
      "Dot product of column 4 and column 5: -9.185550438978409e-17\n",
      "Dot product of column 4 and column 6: -0.00569216796272168\n",
      "Dot product of column 4 and column 7: 0.18041364240098587\n",
      "Dot product of column 4 and column 8: -0.39458459186066547\n",
      "Dot product of column 4 and column 9: -0.5357781825259547\n",
      "Dot product of column 5 and column 6: 0.05795287275024047\n",
      "Dot product of column 5 and column 7: 0.4483903738699731\n",
      "Dot product of column 5 and column 8: 0.48624679159046386\n",
      "Dot product of column 5 and column 9: -0.11769047143992994\n",
      "Dot product of column 6 and column 7: -0.2960991485804022\n",
      "Dot product of column 6 and column 8: -0.47703170771861203\n",
      "Dot product of column 6 and column 9: -0.3580232528455397\n",
      "Dot product of column 7 and column 8: 0.6633471144745493\n",
      "Dot product of column 7 and column 9: -0.20815812868304276\n",
      "Dot product of column 8 and column 9: -0.0031688262109278776\n"
     ]
    }
   ],
   "source": [
    "# print the dot product of each pair of column vectors\n",
    "for i in range(N):\n",
    "    for j in range(i+1, N):\n",
    "        dot_product = np.dot(random_matrix[:, i], random_matrix[:, j])\n",
    "        print(f\"Dot product of column {i} and column {j}: {dot_product}\")\n",
    "        "
   ]
  },
  {
   "cell_type": "code",
   "execution_count": null,
   "metadata": {},
   "outputs": [],
   "source": []
  }
 ],
 "metadata": {
  "kernelspec": {
   "display_name": "base",
   "language": "python",
   "name": "python3"
  },
  "language_info": {
   "codemirror_mode": {
    "name": "ipython",
    "version": 3
   },
   "file_extension": ".py",
   "mimetype": "text/x-python",
   "name": "python",
   "nbconvert_exporter": "python",
   "pygments_lexer": "ipython3",
   "version": "3.11.0"
  }
 },
 "nbformat": 4,
 "nbformat_minor": 2
}
