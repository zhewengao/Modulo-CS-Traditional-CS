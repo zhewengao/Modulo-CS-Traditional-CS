{
 "cells": [
  {
   "cell_type": "code",
   "execution_count": 8,
   "metadata": {},
   "outputs": [],
   "source": [
    "import numpy as np\n",
    "import matplotlib.pyplot as plt\n",
    "import os\n",
    "import pandas as pd"
   ]
  },
  {
   "cell_type": "code",
   "execution_count": 9,
   "metadata": {},
   "outputs": [
    {
     "data": {
      "text/plain": [
       "'\\nprint(train_images.shape) = (60000, 784)\\n\\n'"
      ]
     },
     "execution_count": 9,
     "metadata": {},
     "output_type": "execute_result"
    }
   ],
   "source": [
    "# Function to read MNIST data from CSV filey\n",
    "def read_mnist_csv(filename):\n",
    "    return pd.read_csv(filename, header=None).values[:, 1:]  # Exclude the label column\n",
    "\n",
    "# Path to the MNIST dataset\n",
    "data_path = \"mnist_dataset\"\n",
    "\n",
    "# Read MNIST train and test images from CSV files\n",
    "train_images = read_mnist_csv(os.path.join(data_path, 'mnist_train.csv'))\n",
    "test_images = read_mnist_csv(os.path.join(data_path, 'mnist_test.csv'))\n",
    "\n",
    "\"\"\"\n",
    "print(train_images.shape) = (60000, 784)\n",
    "\n",
    "\"\"\""
   ]
  },
  {
   "cell_type": "code",
   "execution_count": 16,
   "metadata": {},
   "outputs": [
    {
     "data": {
      "image/png": "[encoded data removed]",
      "text/plain": [
       "<Figure size 640x480 with 1 Axes>"
      ]
     },
     "metadata": {},
     "output_type": "display_data"
    },
    {
     "name": "stdout",
     "output_type": "stream",
     "text": [
      "[  0   0   0   0   0   0   0   0   0   0   0   0   0   0   0   0   0   0\n",
      "   0   0   0   0   0   0   0   0   0   0   0   0   0   0   0   0   0   0\n",
      "   0   0   0   0   0   0   0   0   0   0   0   0   0   0   0   0   0   0\n",
      "   0   0   0   0   0   0   0   0   0   0   0   0   0   0   0   0   0   0\n",
      "   0   0   0   0   0   0   0   0   0   0   0   0   0   0   0   0   0   0\n",
      "   0   0   0   0   0   0   0   0   0   0   0   0   0   0   0   0   0   0\n",
      "   0   0   0   0   0   0   0   0   0   0   0   0   0   0   0   0   0   0\n",
      "   0   0   0   0   0   0   0   0   0   0   0   0   0   0   0   0   0   0\n",
      "   0   0   0   0   0   0   0   0   0   0   0   0  85 255 103   1   0   0\n",
      "   0   0   0   0   0   0   0   0   0   0   0   0   0   0   0   0   0   0\n",
      "   0   0   0   0 205 253 253  30   0   0   0   0   0   0   0   0   0   0\n",
      "   0   0   0   0   0   0   0   0   0   0   0   0   0   0 205 253 253  30\n",
      "   0   0   0   0   0   0   0   0   0   0   0   0   0   0   0   0   0   0\n",
      "   0   0   0   0   0  44 233 253 244  27   0   0   0   0   0   0   0   0\n",
      "   0   0   0   0   0   0   0   0   0   0   0   0   0   0   0 135 253 253\n",
      " 100   0   0   0   0   0   0   0   0   0   0   0   0   0   0   0   0   0\n",
      "   0   0   0   0   0   0   0 153 253 240  76   0   0   0   0   0   0   0\n",
      "   0   0   0   0   0   0   0   0   0   0   0   0   0   0   0   0  12 208\n",
      " 253 166   0   0   0   0   0   0   0   0   0   0   0   0   0   0   0   0\n",
      "   0   0   0   0   0   0   0   0  69 253 253 142   0   0   0   0   0   0\n",
      "   0   0   0   0   0   0   0   0   0   0   0   0   0   0   0   0   0  14\n",
      " 110 253 235  33   0   0   0   0   0   0   0   0   0   0   0   0   0   0\n",
      "   0   0   0   0   0   0   0   0   0  63 223 235 130   0   0   0   0   0\n",
      "   0   0   0   0   0   0   0   0   0   0   0   0   0   0   0   0   0   0\n",
      "   0 186 253 235  37   0   0   0   0   0   0   0   0   0   0   0   0   0\n",
      "   0   0   0   0   0   0   0   0   0   0  17 145 253 231  35   0   0   0\n",
      "   0   0   0   0   0   0   0   0   0   0   0   0   0   0   0   0   0   0\n",
      "   0   0  69 220 231 123   0   0   0   0   0   0   0   0   0   0   0   0\n",
      "   0   0   0   0   0   0   0   0   0   0   0  18 205 253 176  27   0   0\n",
      "   0   0   0   0   0   0   0   0   0   0   0   0   0   0   0   0   0   0\n",
      "   0   0  17 125 253 185  39   0   0   0   0   0   0   0   0   0   0   0\n",
      "   0   0   0   0   0   0   0   0   0   0   0   0  71 214 231  41   0   0\n",
      "   0   0   0   0   0   0   0   0   0   0   0   0   0   0   0   0   0   0\n",
      "   0   0   0   0 167 253 225  33   0   0   0   0   0   0   0   0   0   0\n",
      "   0   0   0   0   0   0   0   0   0   0   0   0   0  72 205 207  14   0\n",
      "   0   0   0   0   0   0   0   0   0   0   0   0   0   0   0   0   0   0\n",
      "   0   0   0   0  30 249 233  49   0   0   0   0   0   0   0   0   0   0\n",
      "   0   0   0   0   0   0   0   0   0   0   0   0   0   0  32 253  89   0\n",
      "   0   0   0   0   0   0   0   0   0   0   0   0   0   0   0   0   0   0\n",
      "   0   0   0   0   0   0   0   0   0   0   0   0   0   0   0   0   0   0\n",
      "   0   0   0   0   0   0   0   0   0   0   0   0   0   0   0   0   0   0\n",
      "   0   0   0   0   0   0   0   0   0   0   0   0   0   0   0   0   0   0\n",
      "   0   0   0   0   0   0   0   0   0   0   0   0   0   0   0   0   0   0\n",
      "   0   0   0   0   0   0   0   0   0   0]\n"
     ]
    }
   ],
   "source": [
    "Test_sample = train_images[99]\n",
    "\n",
    "# image show Test_sample\n",
    "plt.imshow(Test_sample.reshape(-28, 28), cmap='gray', aspect = 'auto')\n",
    "plt.title(f'Test Sample')\n",
    "plt.axis('off')\n",
    "plt.tight_layout()\n",
    "plt.show()\n",
    "\n",
    "print(Test_sample)"
   ]
  },
  {
   "cell_type": "code",
   "execution_count": 17,
   "metadata": {},
   "outputs": [
    {
     "name": "stdout",
     "output_type": "stream",
     "text": [
      "84\n"
     ]
    }
   ],
   "source": [
    "# count the number of non-zero entries in Test_sample\n",
    "print(np.count_nonzero(Test_sample))"
   ]
  },
  {
   "cell_type": "code",
   "execution_count": 18,
   "metadata": {},
   "outputs": [],
   "source": [
    "# Generate fat random matrices with varying numbers of columns M\n",
    "def generate_random_matrix(M, n_cols):\n",
    "    # Generate a random matrix with elements from a Gaussian distribution N(0, 1/M)\n",
    "    matrix = np.random.normal(loc=0, scale=1/np.sqrt(M), size=(M, n_cols))\n",
    "    \n",
    "    # Normalize each column vector to ensure its L2 norm is 1\n",
    "    for i in range(n_cols):\n",
    "        column = matrix[:, i]\n",
    "        matrix[:, i] = column / np.linalg.norm(column)\n",
    "    \n",
    "    return matrix\n",
    "\n",
    "def orthogonal_matching_pursuit(A, y, max_iter = 500):\n",
    "    \"\"\"\n",
    "    Orthogonal Matching Pursuit\n",
    "    \"\"\"\n",
    "    z = np.zeros(A.shape[1])\n",
    "    r = y\n",
    "    support = []  # Support set\n",
    "    \n",
    "    \n",
    "    for _ in range(max_iter):\n",
    "        # Compute the correlation of the residual with each column of A\n",
    "        correlations = np.abs(np.dot(A.T, r))\n",
    "        # Find the index of the column with the maximum correlation\n",
    "        j = np.argmax(correlations)  \n",
    "        # Update the support set\n",
    "        support.append(j)\n",
    "        sub_A = A[:, support]\n",
    "        # update z\n",
    "        z[support] = np.linalg.inv(np.dot(sub_A.T, sub_A)).dot(sub_A.T).dot(y)\n",
    "        # update r\n",
    "        r = y - np.dot(A, z)\n",
    "        # #Check the stopping criterion\n",
    "        # if np.linalg.norm(r) < error:\n",
    "        #     break\n",
    "    return z"
   ]
  },
  {
   "cell_type": "code",
   "execution_count": 20,
   "metadata": {},
   "outputs": [
    {
     "ename": "LinAlgError",
     "evalue": "Singular matrix",
     "output_type": "error",
     "traceback": [
      "\u001b[0;31m---------------------------------------------------------------------------\u001b[0m",
      "\u001b[0;31mLinAlgError\u001b[0m                               Traceback (most recent call last)",
      "Cell \u001b[0;32mIn[20], line 6\u001b[0m\n\u001b[1;32m      3\u001b[0m A \u001b[38;5;241m=\u001b[39m generate_random_matrix(M, \u001b[38;5;241m784\u001b[39m)\n\u001b[1;32m      4\u001b[0m y \u001b[38;5;241m=\u001b[39m np\u001b[38;5;241m.\u001b[39mdot(A, Test_sample)\n\u001b[0;32m----> 6\u001b[0m estimated_x \u001b[38;5;241m=\u001b[39m orthogonal_matching_pursuit(A, y, max_iter\u001b[38;5;241m=\u001b[39mM)\n\u001b[1;32m      7\u001b[0m \u001b[38;5;66;03m# reshape estimated_x to 28x28 image\u001b[39;00m\n\u001b[1;32m      8\u001b[0m plt\u001b[38;5;241m.\u001b[39mimshow(estimated_x\u001b[38;5;241m.\u001b[39mreshape(\u001b[38;5;241m-\u001b[39m\u001b[38;5;241m28\u001b[39m, \u001b[38;5;241m28\u001b[39m), cmap\u001b[38;5;241m=\u001b[39m\u001b[38;5;124m'\u001b[39m\u001b[38;5;124mgray\u001b[39m\u001b[38;5;124m'\u001b[39m, aspect\u001b[38;5;241m=\u001b[39m\u001b[38;5;124m'\u001b[39m\u001b[38;5;124mauto\u001b[39m\u001b[38;5;124m'\u001b[39m)\n",
      "Cell \u001b[0;32mIn[18], line 31\u001b[0m, in \u001b[0;36morthogonal_matching_pursuit\u001b[0;34m(A, y, max_iter)\u001b[0m\n\u001b[1;32m     29\u001b[0m sub_A \u001b[38;5;241m=\u001b[39m A[:, support]\n\u001b[1;32m     30\u001b[0m \u001b[38;5;66;03m# update z\u001b[39;00m\n\u001b[0;32m---> 31\u001b[0m z[support] \u001b[38;5;241m=\u001b[39m np\u001b[38;5;241m.\u001b[39mlinalg\u001b[38;5;241m.\u001b[39minv(np\u001b[38;5;241m.\u001b[39mdot(sub_A\u001b[38;5;241m.\u001b[39mT, sub_A))\u001b[38;5;241m.\u001b[39mdot(sub_A\u001b[38;5;241m.\u001b[39mT)\u001b[38;5;241m.\u001b[39mdot(y)\n\u001b[1;32m     32\u001b[0m \u001b[38;5;66;03m# update r\u001b[39;00m\n\u001b[1;32m     33\u001b[0m r \u001b[38;5;241m=\u001b[39m y \u001b[38;5;241m-\u001b[39m np\u001b[38;5;241m.\u001b[39mdot(A, z)\n",
      "File \u001b[0;32m<__array_function__ internals>:200\u001b[0m, in \u001b[0;36minv\u001b[0;34m(*args, **kwargs)\u001b[0m\n",
      "File \u001b[0;32m~/anaconda3/lib/python3.11/site-packages/numpy/linalg/linalg.py:538\u001b[0m, in \u001b[0;36minv\u001b[0;34m(a)\u001b[0m\n\u001b[1;32m    536\u001b[0m signature \u001b[38;5;241m=\u001b[39m \u001b[38;5;124m'\u001b[39m\u001b[38;5;124mD->D\u001b[39m\u001b[38;5;124m'\u001b[39m \u001b[38;5;28;01mif\u001b[39;00m isComplexType(t) \u001b[38;5;28;01melse\u001b[39;00m \u001b[38;5;124m'\u001b[39m\u001b[38;5;124md->d\u001b[39m\u001b[38;5;124m'\u001b[39m\n\u001b[1;32m    537\u001b[0m extobj \u001b[38;5;241m=\u001b[39m get_linalg_error_extobj(_raise_linalgerror_singular)\n\u001b[0;32m--> 538\u001b[0m ainv \u001b[38;5;241m=\u001b[39m _umath_linalg\u001b[38;5;241m.\u001b[39minv(a, signature\u001b[38;5;241m=\u001b[39msignature, extobj\u001b[38;5;241m=\u001b[39mextobj)\n\u001b[1;32m    539\u001b[0m \u001b[38;5;28;01mreturn\u001b[39;00m wrap(ainv\u001b[38;5;241m.\u001b[39mastype(result_t, copy\u001b[38;5;241m=\u001b[39m\u001b[38;5;28;01mFalse\u001b[39;00m))\n",
      "File \u001b[0;32m~/anaconda3/lib/python3.11/site-packages/numpy/linalg/linalg.py:89\u001b[0m, in \u001b[0;36m_raise_linalgerror_singular\u001b[0;34m(err, flag)\u001b[0m\n\u001b[1;32m     88\u001b[0m \u001b[38;5;28;01mdef\u001b[39;00m \u001b[38;5;21m_raise_linalgerror_singular\u001b[39m(err, flag):\n\u001b[0;32m---> 89\u001b[0m     \u001b[38;5;28;01mraise\u001b[39;00m LinAlgError(\u001b[38;5;124m\"\u001b[39m\u001b[38;5;124mSingular matrix\u001b[39m\u001b[38;5;124m\"\u001b[39m)\n",
      "\u001b[0;31mLinAlgError\u001b[0m: Singular matrix"
     ]
    }
   ],
   "source": [
    "np.random.seed(42)  # set the random seed\n",
    "M = 400 # number of measurements\n",
    "A = generate_random_matrix(M, 784)\n",
    "y = np.dot(A, Test_sample)\n",
    "\n",
    "estimated_x = orthogonal_matching_pursuit(A, y, max_iter=M)\n",
    "# reshape estimated_x to 28x28 image\n",
    "plt.imshow(estimated_x.reshape(-28, 28), cmap='gray', aspect='auto')\n",
    "plt.title(f'estimated_x with M = {M} measurements')\n",
    "plt.axis('off')\n",
    "plt.show()               \n"
   ]
  },
  {
   "cell_type": "code",
   "execution_count": 21,
   "metadata": {},
   "outputs": [
    {
     "name": "stdout",
     "output_type": "stream",
     "text": [
      "400\n"
     ]
    }
   ],
   "source": [
    "# count the number of non-zero entries in Test_sample\n",
    "print(np.count_nonzero(estimated_x))"
   ]
  },
  {
   "cell_type": "code",
   "execution_count": 24,
   "metadata": {},
   "outputs": [
    {
     "name": "stdout",
     "output_type": "stream",
     "text": [
      "0\n",
      "1\n",
      "2\n",
      "3\n",
      "4\n",
      "5\n",
      "6\n",
      "7\n",
      "8\n",
      "9\n",
      "10\n"
     ]
    },
    {
     "data": {
      "image/png": "[encoded data removed]",
      "text/plain": [
       "<Figure size 1500x800 with 11 Axes>"
      ]
     },
     "metadata": {},
     "output_type": "display_data"
    }
   ],
   "source": [
    "# Define your functions generate_random_matrix and orthogonal_matching_pursuit here\n",
    "\n",
    "np.random.seed(42)  # set the random seed\n",
    "\n",
    "# Number of measurements\n",
    "M = [200, 250, 300, 350, 400, 450, 500, 550, 600, 650, 700]\n",
    "MSE = []\n",
    "Recovered_x = []\n",
    "for i in range(len(M)):  \n",
    "    A = generate_random_matrix(M[i], 784)\n",
    "    y = np.dot(A, Test_sample)\n",
    "    estimated_x = orthogonal_matching_pursuit(A, y, max_iter=84)\n",
    "    Recovered_x.append(estimated_x)\n",
    "    diff = Test_sample - estimated_x\n",
    "    diff = diff / 255\n",
    "    MSE.append(np.linalg.norm(diff))\n",
    "    print(i)\n",
    "\n",
    "# Reshape estimated_x to 28x28 image and plot\n",
    "plt.figure(figsize=(15, 8))\n",
    "for i in range(len(M)):\n",
    "    plt.subplot(3, 4, i+1)\n",
    "    plt.imshow(Recovered_x[i].reshape(28, 28), cmap='gray')\n",
    "    plt.title(f'M = {M[i]}')\n",
    "    plt.axis('off')\n",
    "\n",
    "plt.suptitle('Estimated_x under different M values using OMP Algorithm', fontsize=16)\n",
    "plt.tight_layout()\n",
    "plt.show()"
   ]
  },
  {
   "cell_type": "code",
   "execution_count": 25,
   "metadata": {},
   "outputs": [
    {
     "name": "stdout",
     "output_type": "stream",
     "text": [
      "[6.132568758419842, 4.535209774496445, 0.08381480036502342, 4.086733553384773e-15, 4.24221511393744e-15, 2.985953898021861e-15, 2.700603670556502e-15, 2.9024162602249514e-15, 2.8967362663275335e-15, 2.980226434087928e-15, 2.5443836515696244e-15]\n"
     ]
    }
   ],
   "source": [
    "print(MSE)"
   ]
  },
  {
   "cell_type": "code",
   "execution_count": 7,
   "metadata": {},
   "outputs": [
    {
     "ename": "NameError",
     "evalue": "name 'M' is not defined",
     "output_type": "error",
     "traceback": [
      "\u001b[0;31m---------------------------------------------------------------------------\u001b[0m",
      "\u001b[0;31mNameError\u001b[0m                                 Traceback (most recent call last)",
      "Cell \u001b[0;32mIn[7], line 1\u001b[0m\n\u001b[0;32m----> 1\u001b[0m A \u001b[38;5;241m=\u001b[39m generate_random_matrix(M[\u001b[38;5;241m0\u001b[39m], \u001b[38;5;241m784\u001b[39m)\n\u001b[1;32m      2\u001b[0m \u001b[38;5;28mprint\u001b[39m(np\u001b[38;5;241m.\u001b[39mdot(A\u001b[38;5;241m.\u001b[39mT)\u001b[38;5;241m.\u001b[39mshape)\n",
      "\u001b[0;31mNameError\u001b[0m: name 'M' is not defined"
     ]
    }
   ],
   "source": []
  },
  {
   "cell_type": "code",
   "execution_count": null,
   "metadata": {},
   "outputs": [],
   "source": []
  }
 ],
 "metadata": {
  "kernelspec": {
   "display_name": "base",
   "language": "python",
   "name": "python3"
  },
  "language_info": {
   "codemirror_mode": {
    "name": "ipython",
    "version": 3
   },
   "file_extension": ".py",
   "mimetype": "text/x-python",
   "name": "python",
   "nbconvert_exporter": "python",
   "pygments_lexer": "ipython3",
   "version": "3.11.0"
  }
 },
 "nbformat": 4,
 "nbformat_minor": 2
}
